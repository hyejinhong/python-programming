{
 "cells": [
  {
   "cell_type": "markdown",
   "id": "4dadebc3",
   "metadata": {},
   "source": [
    "## 파이썬 기본 코드 작성\n",
    "* Ctrl + Enter\n",
    "* Shift + Enter\n",
    "* Alt + Enter\n"
   ]
  },
  {
   "cell_type": "code",
   "execution_count": 8,
   "id": "0fe8ee30",
   "metadata": {},
   "outputs": [
    {
     "name": "stdout",
     "output_type": "stream",
     "text": [
      "10\n"
     ]
    },
    {
     "data": {
      "text/plain": [
       "list"
      ]
     },
     "execution_count": 8,
     "metadata": {},
     "output_type": "execute_result"
    }
   ],
   "source": [
    "my_list = [10, 20, 30]\n",
    "print(my_list[0])\n",
    "type(my_list)"
   ]
  }
 ],
 "metadata": {
  "kernelspec": {
   "display_name": "Python 3",
   "language": "python",
   "name": "python3"
  },
  "language_info": {
   "codemirror_mode": {
    "name": "ipython",
    "version": 3
   },
   "file_extension": ".py",
   "mimetype": "text/x-python",
   "name": "python",
   "nbconvert_exporter": "python",
   "pygments_lexer": "ipython3",
   "version": "3.8.8"
  }
 },
 "nbformat": 4,
 "nbformat_minor": 5
}
